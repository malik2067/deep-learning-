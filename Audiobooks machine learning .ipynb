{
 "cells": [
  {
   "cell_type": "code",
   "execution_count": 9,
   "metadata": {},
   "outputs": [],
   "source": [
    "import tensorflow as tf\n",
    "import numpy as np"
   ]
  },
  {
   "cell_type": "code",
   "execution_count": 10,
   "metadata": {},
   "outputs": [],
   "source": [
    "npz = np.load('Audiobooks_data_train.npz')\n",
    "\n",
    "train_inputs = npz['inputs'].astype(np.float)\n",
    "train_targets = npz['targets'].astype(np.int)\n",
    "\n",
    "npz = np.load('Audiobooks_data_validation.npz')\n",
    "validation_inputs, validation_targets = npz['inputs'].astype(np.float), npz['targets'].astype(np.int)\n",
    "\n",
    "npz = np.load('Audiobooks_data_test.npz')\n",
    "test_inputs, test_targets = npz['inputs'].astype(np.float), npz['targets'].astype(np.int)"
   ]
  },
  {
   "cell_type": "code",
   "execution_count": 31,
   "metadata": {},
   "outputs": [
    {
     "name": "stdout",
     "output_type": "stream",
     "text": [
      "Epoch 1/100\n",
      "36/36 - 0s - loss: 0.6163 - accuracy: 0.6144 - val_loss: 0.5432 - val_accuracy: 0.7092\n",
      "Epoch 2/100\n",
      "36/36 - 0s - loss: 0.4845 - accuracy: 0.7527 - val_loss: 0.4521 - val_accuracy: 0.7450\n",
      "Epoch 3/100\n",
      "36/36 - 0s - loss: 0.4220 - accuracy: 0.7728 - val_loss: 0.4064 - val_accuracy: 0.7964\n",
      "Epoch 4/100\n",
      "36/36 - 0s - loss: 0.3899 - accuracy: 0.7930 - val_loss: 0.3871 - val_accuracy: 0.8009\n",
      "Epoch 5/100\n",
      "36/36 - 0s - loss: 0.3760 - accuracy: 0.7932 - val_loss: 0.3801 - val_accuracy: 0.7919\n",
      "Epoch 6/100\n",
      "36/36 - 0s - loss: 0.3630 - accuracy: 0.8080 - val_loss: 0.3655 - val_accuracy: 0.8031\n",
      "Epoch 7/100\n",
      "36/36 - 0s - loss: 0.3555 - accuracy: 0.8134 - val_loss: 0.3646 - val_accuracy: 0.8076\n",
      "Epoch 8/100\n",
      "36/36 - 0s - loss: 0.3497 - accuracy: 0.8094 - val_loss: 0.3643 - val_accuracy: 0.7875\n",
      "Epoch 9/100\n",
      "36/36 - 0s - loss: 0.3466 - accuracy: 0.8053 - val_loss: 0.3526 - val_accuracy: 0.8210\n",
      "Epoch 10/100\n",
      "36/36 - 0s - loss: 0.3423 - accuracy: 0.8108 - val_loss: 0.3535 - val_accuracy: 0.8143\n",
      "Epoch 11/100\n",
      "36/36 - 0s - loss: 0.3413 - accuracy: 0.8150 - val_loss: 0.3512 - val_accuracy: 0.8009\n",
      "Epoch 12/100\n",
      "36/36 - 0s - loss: 0.3377 - accuracy: 0.8175 - val_loss: 0.3426 - val_accuracy: 0.8210\n",
      "Epoch 13/100\n",
      "36/36 - 0s - loss: 0.3351 - accuracy: 0.8139 - val_loss: 0.3537 - val_accuracy: 0.7964\n",
      "Epoch 14/100\n",
      "36/36 - 0s - loss: 0.3328 - accuracy: 0.8184 - val_loss: 0.3407 - val_accuracy: 0.8166\n",
      "Epoch 15/100\n",
      "36/36 - 0s - loss: 0.3309 - accuracy: 0.8229 - val_loss: 0.3380 - val_accuracy: 0.8255\n",
      "Epoch 16/100\n",
      "36/36 - 0s - loss: 0.3309 - accuracy: 0.8153 - val_loss: 0.3362 - val_accuracy: 0.8210\n",
      "Epoch 17/100\n",
      "36/36 - 0s - loss: 0.3299 - accuracy: 0.8164 - val_loss: 0.3387 - val_accuracy: 0.8188\n",
      "Epoch 18/100\n",
      "36/36 - 0s - loss: 0.3259 - accuracy: 0.8192 - val_loss: 0.3360 - val_accuracy: 0.8255\n",
      "Epoch 19/100\n",
      "36/36 - 0s - loss: 0.3256 - accuracy: 0.8220 - val_loss: 0.3307 - val_accuracy: 0.8233\n",
      "Epoch 20/100\n",
      "36/36 - 0s - loss: 0.3242 - accuracy: 0.8217 - val_loss: 0.3323 - val_accuracy: 0.8188\n",
      "Epoch 21/100\n",
      "36/36 - 0s - loss: 0.3211 - accuracy: 0.8226 - val_loss: 0.3327 - val_accuracy: 0.8277\n",
      "Epoch 22/100\n",
      "36/36 - 0s - loss: 0.3229 - accuracy: 0.8212 - val_loss: 0.3287 - val_accuracy: 0.8300\n",
      "Epoch 23/100\n",
      "36/36 - 0s - loss: 0.3198 - accuracy: 0.8262 - val_loss: 0.3363 - val_accuracy: 0.8143\n",
      "Epoch 24/100\n",
      "36/36 - 0s - loss: 0.3193 - accuracy: 0.8240 - val_loss: 0.3371 - val_accuracy: 0.8166\n",
      "Epoch 25/100\n",
      "36/36 - 0s - loss: 0.3200 - accuracy: 0.8284 - val_loss: 0.3273 - val_accuracy: 0.8322\n",
      "Epoch 26/100\n",
      "36/36 - 0s - loss: 0.3168 - accuracy: 0.8203 - val_loss: 0.3281 - val_accuracy: 0.8322\n",
      "Epoch 27/100\n",
      "36/36 - 0s - loss: 0.3185 - accuracy: 0.8226 - val_loss: 0.3261 - val_accuracy: 0.8389\n",
      "Epoch 28/100\n",
      "36/36 - 0s - loss: 0.3169 - accuracy: 0.8237 - val_loss: 0.3386 - val_accuracy: 0.8322\n",
      "Epoch 29/100\n",
      "36/36 - 0s - loss: 0.3166 - accuracy: 0.8198 - val_loss: 0.3206 - val_accuracy: 0.8322\n",
      "Epoch 30/100\n",
      "36/36 - 0s - loss: 0.3159 - accuracy: 0.8243 - val_loss: 0.3427 - val_accuracy: 0.8054\n",
      "Epoch 31/100\n",
      "36/36 - 0s - loss: 0.3151 - accuracy: 0.8287 - val_loss: 0.3261 - val_accuracy: 0.8300\n",
      "Epoch 32/100\n",
      "36/36 - 0s - loss: 0.3156 - accuracy: 0.8276 - val_loss: 0.3254 - val_accuracy: 0.8322\n",
      "Epoch 33/100\n",
      "36/36 - 0s - loss: 0.3139 - accuracy: 0.8212 - val_loss: 0.3255 - val_accuracy: 0.8277\n",
      "Epoch 34/100\n",
      "36/36 - 0s - loss: 0.3138 - accuracy: 0.8254 - val_loss: 0.3260 - val_accuracy: 0.8277\n"
     ]
    },
    {
     "data": {
      "text/plain": [
       "<tensorflow.python.keras.callbacks.History at 0x1b815a53198>"
      ]
     },
     "execution_count": 31,
     "metadata": {},
     "output_type": "execute_result"
    }
   ],
   "source": [
    "# Set the input and output sizes\n",
    "input_size = 10\n",
    "output_size = 2\n",
    "# Use same hidden layer size for both hidden layers. Not a necessity.\n",
    "hidden_layer_size = 50\n",
    "model = tf.keras.Sequential([\n",
    "    # tf.keras.layers.Dense is basically implementing: output = activation(dot(input, weight) + bias)\n",
    "    # it takes several arguments, but the most important ones for us are the hidden_layer_size and the activation function\n",
    "    tf.keras.layers.Dense(hidden_layer_size, activation='relu'), # 1st hidden layer\n",
    "    tf.keras.layers.Dense(hidden_layer_size, activation='relu'), # 2nd hidden layer\n",
    "    # the final layer is no different, we just make sure to activate it with softmax\n",
    "    tf.keras.layers.Dense(output_size, activation='softmax') # output layer\n",
    "])\n",
    "### Choose the optimizer and the loss function\n",
    "# we define the optimizer we'd like to use, \n",
    "# the loss function, \n",
    "# and the metrics we are interested in obtaining at each iteration\n",
    "model.compile(optimizer='adam', loss='sparse_categorical_crossentropy', metrics=['accuracy'])\n",
    "\n",
    "### Training\n",
    "# That's where we train the model we have built.\n",
    "\n",
    "# set the batch size\n",
    "batch_size = 100\n",
    "\n",
    "# set a maximum number of training epochs\n",
    "max_epochs = 100\n",
    "\n",
    "early_stopping = tf.keras.callbacks.EarlyStopping(patience=5)\n",
    "model.fit(train_inputs, # train inputs\n",
    "          train_targets, # train targets\n",
    "          batch_size=batch_size, # batch size\n",
    "          epochs=max_epochs, # epochs that we will train for (assuming early stopping doesn't kick in)\n",
    "          callbacks=[early_stopping],\n",
    "          validation_data=(validation_inputs, validation_targets), # validation data\n",
    "          verbose = 2 \n",
    "          )  "
   ]
  },
  {
   "cell_type": "code",
   "execution_count": 32,
   "metadata": {},
   "outputs": [
    {
     "name": "stdout",
     "output_type": "stream",
     "text": [
      "14/14 [==============================] - 0s 2ms/step - loss: 0.3367 - accuracy: 0.8281\n"
     ]
    }
   ],
   "source": [
    "test_loss, test_accuracy=model.evaluate(test_inputs,test_targets)"
   ]
  },
  {
   "cell_type": "code",
   "execution_count": null,
   "metadata": {},
   "outputs": [],
   "source": []
  },
  {
   "cell_type": "code",
   "execution_count": null,
   "metadata": {},
   "outputs": [],
   "source": []
  },
  {
   "cell_type": "code",
   "execution_count": null,
   "metadata": {},
   "outputs": [],
   "source": []
  }
 ],
 "metadata": {
  "kernelspec": {
   "display_name": "Python 3",
   "language": "python",
   "name": "python3"
  },
  "language_info": {
   "codemirror_mode": {
    "name": "ipython",
    "version": 3
   },
   "file_extension": ".py",
   "mimetype": "text/x-python",
   "name": "python",
   "nbconvert_exporter": "python",
   "pygments_lexer": "ipython3",
   "version": "3.7.3"
  }
 },
 "nbformat": 4,
 "nbformat_minor": 4
}
